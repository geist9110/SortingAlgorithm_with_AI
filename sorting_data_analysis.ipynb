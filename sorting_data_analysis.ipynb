{
 "cells": [
  {
   "cell_type": "code",
   "execution_count": 22,
   "id": "80eb158fa05d9830",
   "metadata": {
    "collapsed": true,
    "ExecuteTime": {
     "end_time": "2023-11-15T06:24:33.326391Z",
     "start_time": "2023-11-15T06:24:32.986006Z"
    }
   },
   "outputs": [],
   "source": [
    "import random\n",
    "import pandas as pd"
   ]
  },
  {
   "cell_type": "code",
   "execution_count": 5,
   "outputs": [],
   "source": [
    "def selection_sort_with_original_index(arr):\n",
    "    n = len(arr)\n",
    "\n",
    "    # 각 원소를 (값, 원래 인덱스)의 튜플로 변환\n",
    "    arr_with_index = [(arr[i], i) for i in range(n)]\n",
    "\n",
    "    for i in range(n):\n",
    "        # 현재 인덱스를 가장 작은 값으로 가정\n",
    "        min_index = i\n",
    "\n",
    "        # 나머지 배열을 탐색하여 최솟값을 찾기\n",
    "        for j in range(i + 1, n):\n",
    "            if arr_with_index[j][0] < arr_with_index[min_index][0]:\n",
    "                min_index = j\n",
    "\n",
    "        # 최솟값과 현재 인덱스의 원소를 교환\n",
    "        arr_with_index[i], arr_with_index[min_index] = arr_with_index[min_index], arr_with_index[i]\n",
    "\n",
    "    # 정렬 후에는 정렬된 값들만 남기고, 원래의 인덱스 정보를 제거\n",
    "    sorted_values = [item[0] for item in arr_with_index]\n",
    "\n",
    "    return sorted_values, [item[1] for item in arr_with_index]"
   ],
   "metadata": {
    "collapsed": false,
    "ExecuteTime": {
     "end_time": "2023-11-15T05:26:43.785708Z",
     "start_time": "2023-11-15T05:26:43.782918Z"
    }
   },
   "id": "96de032cb865381c"
  },
  {
   "cell_type": "code",
   "execution_count": 21,
   "outputs": [
    {
     "name": "stdout",
     "output_type": "stream",
     "text": [
      "10\n",
      "[2, 76, 68, 7, 24, 89, 23, 4, 25, 25]\n",
      "[2, 4, 7, 23, 24, 25, 25, 68, 76, 89]\n",
      "[0, 7, 3, 6, 4, 8, 9, 2, 1, 5]\n"
     ]
    }
   ],
   "source": [
    "number_length = random.randint(10, 10)\n",
    "\n",
    "random_data = []\n",
    "for i in range(number_length):\n",
    "    random_data.append(random.randint(0, 100))\n",
    "\n",
    "sort_data, sort_index = selection_sort_with_original_index(random_data)\n",
    "\n",
    "print(number_length)\n",
    "print(random_data)\n",
    "print(sort_data)\n",
    "print(sort_index)"
   ],
   "metadata": {
    "collapsed": false,
    "ExecuteTime": {
     "end_time": "2023-11-15T05:27:53.362024Z",
     "start_time": "2023-11-15T05:27:53.358914Z"
    }
   },
   "id": "initial_id"
  },
  {
   "cell_type": "code",
   "execution_count": 33,
   "outputs": [
    {
     "data": {
      "text/plain": "Empty DataFrame\nColumns: [random_data, sorted_data, sorted_index]\nIndex: []",
      "text/html": "<div>\n<style scoped>\n    .dataframe tbody tr th:only-of-type {\n        vertical-align: middle;\n    }\n\n    .dataframe tbody tr th {\n        vertical-align: top;\n    }\n\n    .dataframe thead th {\n        text-align: right;\n    }\n</style>\n<table border=\"1\" class=\"dataframe\">\n  <thead>\n    <tr style=\"text-align: right;\">\n      <th></th>\n      <th>random_data</th>\n      <th>sorted_data</th>\n      <th>sorted_index</th>\n    </tr>\n  </thead>\n  <tbody>\n  </tbody>\n</table>\n</div>"
     },
     "execution_count": 33,
     "metadata": {},
     "output_type": "execute_result"
    }
   ],
   "source": [
    "df = pd.DataFrame(columns=[\"random_data\", \"sorted_data\", \"sorted_index\"])\n",
    "df"
   ],
   "metadata": {
    "collapsed": false,
    "ExecuteTime": {
     "end_time": "2023-11-15T06:46:46.940249Z",
     "start_time": "2023-11-15T06:46:46.933925Z"
    }
   },
   "id": "7769bdbe35e3e00b"
  },
  {
   "cell_type": "code",
   "execution_count": 34,
   "outputs": [
    {
     "data": {
      "text/plain": "  random_data sorted_data sorted_index\n0         NaN         NaN          NaN\n1         NaN         NaN          NaN\n2         NaN         NaN          NaN\n3         NaN         NaN          NaN\n4         NaN         NaN          NaN\n5         NaN         NaN          NaN\n6         NaN         NaN          NaN\n7         NaN         NaN          NaN\n8         NaN         NaN          NaN\n9         NaN         NaN          NaN",
      "text/html": "<div>\n<style scoped>\n    .dataframe tbody tr th:only-of-type {\n        vertical-align: middle;\n    }\n\n    .dataframe tbody tr th {\n        vertical-align: top;\n    }\n\n    .dataframe thead th {\n        text-align: right;\n    }\n</style>\n<table border=\"1\" class=\"dataframe\">\n  <thead>\n    <tr style=\"text-align: right;\">\n      <th></th>\n      <th>random_data</th>\n      <th>sorted_data</th>\n      <th>sorted_index</th>\n    </tr>\n  </thead>\n  <tbody>\n    <tr>\n      <th>0</th>\n      <td>NaN</td>\n      <td>NaN</td>\n      <td>NaN</td>\n    </tr>\n    <tr>\n      <th>1</th>\n      <td>NaN</td>\n      <td>NaN</td>\n      <td>NaN</td>\n    </tr>\n    <tr>\n      <th>2</th>\n      <td>NaN</td>\n      <td>NaN</td>\n      <td>NaN</td>\n    </tr>\n    <tr>\n      <th>3</th>\n      <td>NaN</td>\n      <td>NaN</td>\n      <td>NaN</td>\n    </tr>\n    <tr>\n      <th>4</th>\n      <td>NaN</td>\n      <td>NaN</td>\n      <td>NaN</td>\n    </tr>\n    <tr>\n      <th>5</th>\n      <td>NaN</td>\n      <td>NaN</td>\n      <td>NaN</td>\n    </tr>\n    <tr>\n      <th>6</th>\n      <td>NaN</td>\n      <td>NaN</td>\n      <td>NaN</td>\n    </tr>\n    <tr>\n      <th>7</th>\n      <td>NaN</td>\n      <td>NaN</td>\n      <td>NaN</td>\n    </tr>\n    <tr>\n      <th>8</th>\n      <td>NaN</td>\n      <td>NaN</td>\n      <td>NaN</td>\n    </tr>\n    <tr>\n      <th>9</th>\n      <td>NaN</td>\n      <td>NaN</td>\n      <td>NaN</td>\n    </tr>\n  </tbody>\n</table>\n</div>"
     },
     "execution_count": 34,
     "metadata": {},
     "output_type": "execute_result"
    }
   ],
   "source": [
    "df.add(pd.DataFrame({'random_data':pd.Series(random_data), 'sorted_data':pd.Series(sort_data), 'sorted_index':pd.Series(sort_index)}))"
   ],
   "metadata": {
    "collapsed": false,
    "ExecuteTime": {
     "end_time": "2023-11-15T06:46:47.729266Z",
     "start_time": "2023-11-15T06:46:47.722757Z"
    }
   },
   "id": "d8a16b61a7e90789"
  }
 ],
 "metadata": {
  "kernelspec": {
   "display_name": "Python 3",
   "language": "python",
   "name": "python3"
  },
  "language_info": {
   "codemirror_mode": {
    "name": "ipython",
    "version": 2
   },
   "file_extension": ".py",
   "mimetype": "text/x-python",
   "name": "python",
   "nbconvert_exporter": "python",
   "pygments_lexer": "ipython2",
   "version": "2.7.6"
  }
 },
 "nbformat": 4,
 "nbformat_minor": 5
}
