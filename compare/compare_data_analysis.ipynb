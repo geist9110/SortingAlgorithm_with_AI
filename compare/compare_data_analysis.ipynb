{
 "cells": [
  {
   "cell_type": "code",
   "execution_count": 1,
   "id": "initial_id",
   "metadata": {
    "collapsed": true,
    "ExecuteTime": {
     "end_time": "2023-11-15T11:41:34.874769Z",
     "start_time": "2023-11-15T11:41:34.637975Z"
    }
   },
   "outputs": [],
   "source": [
    "import random\n",
    "\n",
    "import pandas as pd"
   ]
  },
  {
   "cell_type": "code",
   "execution_count": 2,
   "outputs": [
    {
     "data": {
      "text/plain": "Empty DataFrame\nColumns: [A, B, compare]\nIndex: []",
      "text/html": "<div>\n<style scoped>\n    .dataframe tbody tr th:only-of-type {\n        vertical-align: middle;\n    }\n\n    .dataframe tbody tr th {\n        vertical-align: top;\n    }\n\n    .dataframe thead th {\n        text-align: right;\n    }\n</style>\n<table border=\"1\" class=\"dataframe\">\n  <thead>\n    <tr style=\"text-align: right;\">\n      <th></th>\n      <th>A</th>\n      <th>B</th>\n      <th>compare</th>\n    </tr>\n  </thead>\n  <tbody>\n  </tbody>\n</table>\n</div>"
     },
     "execution_count": 2,
     "metadata": {},
     "output_type": "execute_result"
    }
   ],
   "source": [
    "df = pd.DataFrame(columns=[\"A\", \"B\", \"compare\"])\n",
    "df"
   ],
   "metadata": {
    "collapsed": false,
    "ExecuteTime": {
     "end_time": "2023-11-15T11:41:35.782118Z",
     "start_time": "2023-11-15T11:41:35.771981Z"
    }
   },
   "id": "4c8ca8dcdac82332"
  },
  {
   "cell_type": "code",
   "execution_count": 7,
   "outputs": [
    {
     "data": {
      "text/plain": "                A           B  compare\n0       794986317 -1209640613        0\n1        29595313    58546724        1\n2      -466687892   947851993        1\n3      1830177708 -1331207851        0\n4     -1052692459  -577717936        1\n...           ...         ...      ...\n99995 -1743624363 -1277084532        1\n99996   360290929  1404099116        1\n99997    77911364  1762757731        1\n99998   733663476  -847322196        0\n99999 -1861743306  -173173188        1\n\n[100000 rows x 3 columns]",
      "text/html": "<div>\n<style scoped>\n    .dataframe tbody tr th:only-of-type {\n        vertical-align: middle;\n    }\n\n    .dataframe tbody tr th {\n        vertical-align: top;\n    }\n\n    .dataframe thead th {\n        text-align: right;\n    }\n</style>\n<table border=\"1\" class=\"dataframe\">\n  <thead>\n    <tr style=\"text-align: right;\">\n      <th></th>\n      <th>A</th>\n      <th>B</th>\n      <th>compare</th>\n    </tr>\n  </thead>\n  <tbody>\n    <tr>\n      <th>0</th>\n      <td>794986317</td>\n      <td>-1209640613</td>\n      <td>0</td>\n    </tr>\n    <tr>\n      <th>1</th>\n      <td>29595313</td>\n      <td>58546724</td>\n      <td>1</td>\n    </tr>\n    <tr>\n      <th>2</th>\n      <td>-466687892</td>\n      <td>947851993</td>\n      <td>1</td>\n    </tr>\n    <tr>\n      <th>3</th>\n      <td>1830177708</td>\n      <td>-1331207851</td>\n      <td>0</td>\n    </tr>\n    <tr>\n      <th>4</th>\n      <td>-1052692459</td>\n      <td>-577717936</td>\n      <td>1</td>\n    </tr>\n    <tr>\n      <th>...</th>\n      <td>...</td>\n      <td>...</td>\n      <td>...</td>\n    </tr>\n    <tr>\n      <th>99995</th>\n      <td>-1743624363</td>\n      <td>-1277084532</td>\n      <td>1</td>\n    </tr>\n    <tr>\n      <th>99996</th>\n      <td>360290929</td>\n      <td>1404099116</td>\n      <td>1</td>\n    </tr>\n    <tr>\n      <th>99997</th>\n      <td>77911364</td>\n      <td>1762757731</td>\n      <td>1</td>\n    </tr>\n    <tr>\n      <th>99998</th>\n      <td>733663476</td>\n      <td>-847322196</td>\n      <td>0</td>\n    </tr>\n    <tr>\n      <th>99999</th>\n      <td>-1861743306</td>\n      <td>-173173188</td>\n      <td>1</td>\n    </tr>\n  </tbody>\n</table>\n<p>100000 rows × 3 columns</p>\n</div>"
     },
     "execution_count": 7,
     "metadata": {},
     "output_type": "execute_result"
    }
   ],
   "source": [
    "# compare : 0 => A > B / 1 => A < B / 2 => A=B\n",
    "\n",
    "data_size = 100000\n",
    "MIN_VALUE = -2147483648\n",
    "MAX_VALUE = 2147483647\n",
    "\n",
    "for i in range(data_size):\n",
    "    A = random.randint(MIN_VALUE, MAX_VALUE)\n",
    "    B = random.randint(MIN_VALUE, MAX_VALUE)\n",
    "    compare = 0\n",
    "    if A < B:\n",
    "        compare = 1\n",
    "    elif A == B:\n",
    "        compare = 2\n",
    "\n",
    "    df.loc[i] = {'A': A, \"B\": B, \"compare\": compare}\n",
    "\n",
    "df"
   ],
   "metadata": {
    "collapsed": false,
    "ExecuteTime": {
     "end_time": "2023-11-15T11:46:30.766864Z",
     "start_time": "2023-11-15T11:45:38.705631Z"
    }
   },
   "id": "9e04dddfa696b444"
  },
  {
   "cell_type": "code",
   "execution_count": 12,
   "outputs": [],
   "source": [
    "# 같은 값의 데이터가 비정상적으로 적으므로 500개 추가\n",
    "for i in range(len(df), len(df)+50000):\n",
    "    A = random.randint(0, 100)\n",
    "    \n",
    "    df.loc[i] = {'A': A, \"B\": A, \"compare\": 2}"
   ],
   "metadata": {
    "collapsed": false,
    "ExecuteTime": {
     "end_time": "2023-11-15T11:49:10.858754Z",
     "start_time": "2023-11-15T11:47:32.573250Z"
    }
   },
   "id": "27cd85ee899cef6f"
  },
  {
   "cell_type": "code",
   "execution_count": 13,
   "outputs": [],
   "source": [
    "df.to_csv(\"./compare_data\")"
   ],
   "metadata": {
    "collapsed": false,
    "ExecuteTime": {
     "end_time": "2023-11-15T11:49:45.474438Z",
     "start_time": "2023-11-15T11:49:45.309594Z"
    }
   },
   "id": "d7ec5298ec970550"
  }
 ],
 "metadata": {
  "kernelspec": {
   "display_name": "Python 3",
   "language": "python",
   "name": "python3"
  },
  "language_info": {
   "codemirror_mode": {
    "name": "ipython",
    "version": 2
   },
   "file_extension": ".py",
   "mimetype": "text/x-python",
   "name": "python",
   "nbconvert_exporter": "python",
   "pygments_lexer": "ipython2",
   "version": "2.7.6"
  }
 },
 "nbformat": 4,
 "nbformat_minor": 5
}
